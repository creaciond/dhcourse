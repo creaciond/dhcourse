{
 "cells": [
  {
   "cell_type": "markdown",
   "metadata": {},
   "source": [
    "# Выделение ключевых слов"
   ]
  },
  {
   "cell_type": "markdown",
   "metadata": {},
   "source": [
    "__Идея:__ я хочу проверить, насколько хорошо будет работать матрица совстречаемости, которая будет основана на полном проходе по всему тексту (а не случайному выбору, пусть и большое количество раз, как в random walk, который мы обсуждали на парах).\n",
    "\n",
    "_Дополнительная идея:_ посмотреть, как результат будет зависеть от величины «окна», которую мы зададим."
   ]
  },
  {
   "cell_type": "markdown",
   "metadata": {},
   "source": [
    "## Алгоритм\n",
    "\n",
    "### Обработка текста"
   ]
  },
  {
   "cell_type": "code",
   "execution_count": 1,
   "metadata": {},
   "outputs": [],
   "source": [
    "from nltk.corpus import stopwords\n",
    "from pymystem3 import Mystem\n",
    "from string import punctuation"
   ]
  },
  {
   "cell_type": "code",
   "execution_count": 2,
   "metadata": {},
   "outputs": [],
   "source": [
    "mystem = Mystem()\n",
    "stops = stopwords.words(\"russian\")\n",
    "punctuators = punctuation + \"«–»— \\r\\n\""
   ]
  },
  {
   "cell_type": "code",
   "execution_count": 5,
   "metadata": {},
   "outputs": [],
   "source": [
    "def lemmatize_text(text):\n",
    "    \"\"\"Из исходного текста делает список лемм, очищенных от пунктуации\n",
    "    и стоп-слов.\n",
    "    \n",
    "    :arg text (str): исходный текст, как он загружен из файла\n",
    "    :returns clean_text (list of str): список лемм текста в том порядке, в\n",
    "    котором они были в тексте\n",
    "    \"\"\"\n",
    "    lemmas_raw = [parse[\"analysis\"][0][\"lex\"] for parse in mystem.analyze(text)\n",
    "                  if parse.get(\"analysis\")]\n",
    "    clean_text = [lemma_raw for lemma_raw in lemmas_raw\n",
    "                 if lemma_raw not in stops and lemma_raw not in punctuators]        \n",
    "    return clean_text"
   ]
  },
  {
   "cell_type": "code",
   "execution_count": 11,
   "metadata": {},
   "outputs": [],
   "source": [
    "clean_text = lemmatize_text(sample)"
   ]
  },
  {
   "cell_type": "markdown",
   "metadata": {},
   "source": [
    "Список слов, где все слова повторяются только один раз, нужен для составления графа:"
   ]
  },
  {
   "cell_type": "code",
   "execution_count": 12,
   "metadata": {},
   "outputs": [],
   "source": [
    "word_list = list(set(clean_text))"
   ]
  },
  {
   "cell_type": "markdown",
   "metadata": {},
   "source": [
    "### Составление матрицы смежности"
   ]
  },
  {
   "cell_type": "code",
   "execution_count": 13,
   "metadata": {},
   "outputs": [],
   "source": [
    "import numpy as np"
   ]
  },
  {
   "cell_type": "code",
   "execution_count": 27,
   "metadata": {},
   "outputs": [],
   "source": [
    "def fill_co_occurence_matrix(text_lemmas, word_list, window):\n",
    "    \"\"\"Собирает матрицу совстречаемости из текста.\n",
    "    \n",
    "    :arg text_lemmas (list of str): лемматизированный и почищенный текст\n",
    "    :arg word_list (list of str): список уникальных слов\n",
    "    :arg window (int): окно, в котором мы считаем совстречаемость\n",
    "    \n",
    "    :returns M_co_occur (np.ndarray): матрица совстречаемости\n",
    "    \"\"\"\n",
    "    M_co_occur = np.zeros((len(word_list), len(word_list)))\n",
    "    for lemma_ind, lemma in enumerate(text_lemmas):\n",
    "        lemma_matrix_index = word_list.index(lemma)\n",
    "        ind_left = max(0, lemma_ind - window)\n",
    "        ind_right = min(lemma_ind + window, len(text_lemmas))\n",
    "        for ind_neighbor in range(ind_left, ind_right):\n",
    "            word_neighbor = clean_text[ind_neighbor]\n",
    "            neighbor_matrix_index = word_list.index(word_neighbor)\n",
    "            M_co_occur[lemma_matrix_index][neighbor_matrix_index] += 1\n",
    "    return M_co_occur"
   ]
  },
  {
   "cell_type": "markdown",
   "metadata": {},
   "source": [
    "Предположим, что ключевыми будут те слова, которые соединяются с наибольшим количеством других слов => их совстречаемость будет самой высокой."
   ]
  },
  {
   "cell_type": "code",
   "execution_count": null,
   "metadata": {},
   "outputs": [],
   "source": [
    "def extract_keywords_from_matrix(matrix, word_list, threshold):\n",
    "    \"\"\"Из матрицы совстречаемости выбирает сколько-то слов с наибольшей \n",
    "    совстречаемостью.\n",
    "    \n",
    "    :arg matrix (np.ndarray): матрица совстречаемости\n",
    "    :arg word_list (list of str): список уникальных слов, на котором строилась \n",
    "    матрица\n",
    "    :arg threshold (int): сколько первых значений совстречаемости брать\n",
    "    \n",
    "    :returns keywords (list of str): сами ключевые слова\n",
    "    \"\"\"\n",
    "    kw_indices = np.where(np.argmax(matrix, axis=1) <= threshold)[0]\n",
    "    keywords = [word_list[kw_ind] for kw_ind in kw_indices]\n",
    "    return keywords"
   ]
  },
  {
   "cell_type": "markdown",
   "metadata": {},
   "source": [
    "### Измеряем качество"
   ]
  },
  {
   "cell_type": "code",
   "execution_count": null,
   "metadata": {},
   "outputs": [],
   "source": [
    "from sklearn.metrics import f1_score, precision_score, recall_score"
   ]
  },
  {
   "cell_type": "code",
   "execution_count": null,
   "metadata": {},
   "outputs": [],
   "source": [
    "def evaluate_kws(kws_true, kws_predicted):\n",
    "    precision = precision_score(kws_true, kws_predicted)\n",
    "    recall = recall_score(kws_true, kws_predicted)\n",
    "    f1 = f1_score(kws_true, kws_predicted)\n",
    "    print(\"\\tprecision={:.4f}, recall={:.4f}, F1={:.4f}\".format(precision, recall, f1))\n",
    "    return precision, recall, f1"
   ]
  },
  {
   "cell_type": "markdown",
   "metadata": {},
   "source": [
    "### Всё вместе"
   ]
  },
  {
   "cell_type": "code",
   "execution_count": null,
   "metadata": {},
   "outputs": [],
   "source": [
    "def pipeline_for_texts(text, kw_true):\n",
    "    text_lemmas = lemmatize_text(text)\n",
    "    word_list = list(set(clean_text))\n",
    "    for window in range(1, 6):\n",
    "        print(\"window={}\".format(window))\n",
    "        M = fill_co_occurence_matrix(text_lemmas, word_list, window)\n",
    "        for thresh in range(1, 4):\n",
    "            kw = extract_keywords_from_matrix(M, word_list, thresh)\n",
    "            print(\"\\ttop-{} co-occurences: {}\".format(thresh, kw))\n",
    "            precision, recall, f1 = evaluate_kws(kw_true, kw)"
   ]
  }
 ],
 "metadata": {
  "kernelspec": {
   "display_name": "Python 3",
   "language": "python",
   "name": "python3"
  },
  "language_info": {
   "codemirror_mode": {
    "name": "ipython",
    "version": 3
   },
   "file_extension": ".py",
   "mimetype": "text/x-python",
   "name": "python",
   "nbconvert_exporter": "python",
   "pygments_lexer": "ipython3",
   "version": "3.6.8"
  }
 },
 "nbformat": 4,
 "nbformat_minor": 4
}
