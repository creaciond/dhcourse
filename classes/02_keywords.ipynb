{
 "cells": [
  {
   "cell_type": "markdown",
   "metadata": {},
   "source": [
    "# Выделение ключевых слов"
   ]
  },
  {
   "cell_type": "markdown",
   "metadata": {},
   "source": [
    "__Идея:__ я хочу проверить, насколько хорошо будет работать матрица совстречаемости, которая будет основана на полном проходе по всему тексту (а не случайному выбору, пусть и большое количество раз, как в random walk, который мы обсуждали на парах).\n",
    "\n",
    "_Дополнительная идея:_ посмотреть, как результат будет зависеть от величины «окна», которую мы зададим."
   ]
  },
  {
   "cell_type": "markdown",
   "metadata": {},
   "source": [
    "## Алгоритм\n",
    "\n",
    "### Обработка текста"
   ]
  },
  {
   "cell_type": "code",
   "execution_count": 1,
   "metadata": {},
   "outputs": [],
   "source": [
    "from nltk.corpus import stopwords\n",
    "from pymystem3 import Mystem\n",
    "from string import punctuation"
   ]
  },
  {
   "cell_type": "code",
   "execution_count": 2,
   "metadata": {},
   "outputs": [],
   "source": [
    "mystem = Mystem()\n",
    "stops = stopwords.words(\"russian\")\n",
    "punctuators = punctuation + \"«–»— \\r\\n\""
   ]
  },
  {
   "cell_type": "code",
   "execution_count": 3,
   "metadata": {},
   "outputs": [],
   "source": [
    "def lemmatize_text(text):\n",
    "    \"\"\"Из исходного текста делает список лемм, очищенных от пунктуации\n",
    "    и стоп-слов.\n",
    "    \n",
    "    :arg text (str): исходный текст, как он загружен из файла\n",
    "    :returns clean_text (list of str): список лемм текста в том порядке, в\n",
    "    котором они были в тексте\n",
    "    \"\"\"\n",
    "    lemmas_raw = [parse[\"analysis\"][0][\"lex\"] for parse in mystem.analyze(text)\n",
    "                  if parse.get(\"analysis\")]\n",
    "    clean_text = [lemma_raw for lemma_raw in lemmas_raw\n",
    "                 if lemma_raw not in stops and lemma_raw not in punctuators]        \n",
    "    return clean_text"
   ]
  },
  {
   "cell_type": "markdown",
   "metadata": {},
   "source": [
    "### Составление матрицы смежности"
   ]
  },
  {
   "cell_type": "code",
   "execution_count": 5,
   "metadata": {},
   "outputs": [],
   "source": [
    "import numpy as np"
   ]
  },
  {
   "cell_type": "code",
   "execution_count": 24,
   "metadata": {},
   "outputs": [],
   "source": [
    "def fill_co_occurence_matrix(text_lemmas, word_list, window):\n",
    "    \"\"\"Собирает матрицу совстречаемости из текста.\n",
    "    \n",
    "    :arg text_lemmas (list of str): лемматизированный и почищенный текст\n",
    "    :arg word_list (list of str): список уникальных слов\n",
    "    :arg window (int): окно, в котором мы считаем совстречаемость\n",
    "    \n",
    "    :returns M_co_occur (np.ndarray): матрица совстречаемости\n",
    "    \"\"\"\n",
    "    M_co_occur = np.zeros((len(word_list), len(word_list)))\n",
    "    for lemma_ind, lemma in enumerate(text_lemmas):\n",
    "        lemma_matrix_index = word_list.index(lemma)\n",
    "        ind_left = max(0, lemma_ind - window)\n",
    "        ind_right = min(lemma_ind + window, len(text_lemmas))\n",
    "        for ind_neighbor in range(ind_left, ind_right):\n",
    "            word_neighbor = text_lemmas[ind_neighbor]\n",
    "            neighbor_matrix_index = word_list.index(word_neighbor)\n",
    "            M_co_occur[lemma_matrix_index][neighbor_matrix_index] += 1\n",
    "    return M_co_occur"
   ]
  },
  {
   "cell_type": "markdown",
   "metadata": {},
   "source": [
    "Предположим, что ключевыми будут те слова, которые соединяются с наибольшим количеством других слов => их совстречаемость будет самой высокой."
   ]
  },
  {
   "cell_type": "code",
   "execution_count": 7,
   "metadata": {},
   "outputs": [],
   "source": [
    "def extract_keywords_from_matrix(matrix, word_list, threshold):\n",
    "    \"\"\"Из матрицы совстречаемости выбирает сколько-то слов с наибольшей \n",
    "    совстречаемостью.\n",
    "    \n",
    "    :arg matrix (np.ndarray): матрица совстречаемости\n",
    "    :arg word_list (list of str): список уникальных слов, на котором строилась \n",
    "    матрица\n",
    "    :arg threshold (int): сколько первых значений совстречаемости брать\n",
    "    \n",
    "    :returns keywords (list of str): сами ключевые слова\n",
    "    \"\"\"\n",
    "    kw_indices = np.where(np.argmax(matrix, axis=1) <= threshold)[0]\n",
    "    keywords = [word_list[kw_ind] for kw_ind in kw_indices]\n",
    "    return keywords"
   ]
  },
  {
   "cell_type": "markdown",
   "metadata": {},
   "source": [
    "### Измеряем качество"
   ]
  },
  {
   "cell_type": "code",
   "execution_count": 40,
   "metadata": {},
   "outputs": [],
   "source": [
    "def precision_recall_fmeasure (manual, predicted):\n",
    "    '''считает точность, полноту и F-меру'''\n",
    "    precisions = []\n",
    "    recalls = []\n",
    "\n",
    "    for index, words_manual in enumerate (manual):\n",
    "        words_predicted = predicted [index]\n",
    "        intersection = len (set(words_manual) & set (words_predicted)) #  число элементов в пересечении списков\n",
    "        recalls.append (intersection/len(words_manual)) \n",
    "        precisions.append (intersection/len(words_predicted))\n",
    "        \n",
    "    mean_precision = sum(precisions)/ len (precisions)\n",
    "    mean_recall = sum(recalls)/ len (recalls)\n",
    "    fmeasure =  ((2*mean_recall*mean_precision)/(mean_recall+mean_precision))\n",
    "    return '\\tТочность: {}, полнота: {}, F-мера {}'.format (mean_precision, mean_recall, fmeasure)"
   ]
  },
  {
   "cell_type": "markdown",
   "metadata": {},
   "source": [
    "### Всё вместе"
   ]
  },
  {
   "cell_type": "code",
   "execution_count": 36,
   "metadata": {},
   "outputs": [],
   "source": [
    "def pipeline_for_texts(text, kw_true):\n",
    "    text_lemmas = lemmatize_text(text)\n",
    "    word_list = list(set(text_lemmas))\n",
    "    for window in range(1, 6):\n",
    "        print(\"window={}\".format(window))\n",
    "        M = fill_co_occurence_matrix(text_lemmas, word_list, window)\n",
    "        for thresh in range(1, 4):\n",
    "            kw = extract_keywords_from_matrix(M, word_list, thresh)\n",
    "            print(\"\\ttop-{} co-occurences: {}\".format(thresh, kw))\n",
    "            print(precision_recall_fmeasure(kw_true, kw))"
   ]
  },
  {
   "cell_type": "markdown",
   "metadata": {},
   "source": [
    "## Подгружаем данные из датасета\n",
    "\n",
    "Датасет — [ru-kw-eval](https://github.com/mannefedov/ru_kw_eval_datasets), я взяла одну из Независимых газет (ха-ха)."
   ]
  },
  {
   "cell_type": "code",
   "execution_count": 12,
   "metadata": {},
   "outputs": [],
   "source": [
    "import json"
   ]
  },
  {
   "cell_type": "code",
   "execution_count": 13,
   "metadata": {},
   "outputs": [],
   "source": [
    "ng_data = []\n",
    "with open(\"../data/ng_0.jsonlines\", \"r\") as f:\n",
    "    for line in f.readlines():\n",
    "        ng_data.append(json.loads(line))"
   ]
  },
  {
   "cell_type": "markdown",
   "metadata": {},
   "source": [
    "Возьмём какую-нибудь случайную статью и посмотрим, как работает:"
   ]
  },
  {
   "cell_type": "code",
   "execution_count": 45,
   "metadata": {},
   "outputs": [],
   "source": [
    "import random"
   ]
  },
  {
   "cell_type": "code",
   "execution_count": 48,
   "metadata": {},
   "outputs": [
    {
     "name": "stdout",
     "output_type": "stream",
     "text": [
      "ОППОЗИЦИЯ ГРУЗИИ УГРОЖАЕТ ВСЕНАРОДНЫМ ВОССТАНИЕМ\n",
      "window=1\n",
      "\ttop-1 co-occurences: ['таргамадзе', 'май', 'напоминать', 'схватка', 'становиться']\n",
      "\tТочность: 0.2928571428571428, полнота: 0.3194444444444444, F-мера 0.30557355800388847\n",
      "\ttop-2 co-occurences: ['таргамадзе', 'май', 'рейтинг', 'придавать', 'напоминать', 'схватка', 'начало', 'становиться']\n",
      "\tТочность: 0.22182539682539681, полнота: 0.2638888888888889, F-мера 0.24103576615831518\n",
      "\ttop-3 co-occurences: ['таргамадзе', 'май', 'рейтинг', 'искусственный', 'придавать', 'напоминать', 'схватка', 'нагнетание', 'начало', 'становиться']\n",
      "\tТочность: 0.2260989010989011, полнота: 0.3194444444444444, F-мера 0.2647856982990152\n",
      "window=2\n",
      "\ttop-1 co-occurences: ['таргамадзе', 'май', 'приближение', 'напоминать', 'схватка', 'ясно', 'телеканал', 'георгий', 'становиться']\n",
      "\tТочность: 0.24545454545454545, полнота: 0.3194444444444444, F-мера 0.27760393383996423\n",
      "\ttop-2 co-occurences: ['таргамадзе', 'май', 'рейтинг', 'придавать', 'чей', 'приближение', 'напоминать', 'схватка', 'ясно', 'телеканал', 'георгий', 'возрастать', 'начало', 'экс', 'становиться', 'весна']\n",
      "\tТочность: 0.22182539682539681, полнота: 0.2638888888888889, F-мера 0.24103576615831518\n",
      "\ttop-3 co-occurences: ['таргамадзе', 'май', 'рейтинг', 'искусственный', 'придавать', 'грех', 'чей', 'приближение', 'напоминать', 'схватка', 'нагнетание', 'ясно', 'телеканал', 'георгий', 'возрастать', 'начало', 'экс', 'становиться', 'весна']\n",
      "\tТочность: 0.2260989010989011, полнота: 0.3194444444444444, F-мера 0.2647856982990152\n",
      "window=3\n",
      "\ttop-1 co-occurences: ['таргамадзе', 'май', 'принадлежать', 'мера', 'приближение', 'напоминать', 'схватка', 'ясно', 'телеканал', 'георгий', 'становиться', 'имедь']\n",
      "\tТочность: 0.24166666666666667, полнота: 0.2361111111111111, F-мера 0.23885658914728683\n",
      "\ttop-2 co-occurences: ['таргамадзе', 'май', 'рейтинг', 'принадлежать', 'придавать', 'чей', 'держаться', 'мера', 'приближение', 'напоминать', 'схватка', 'нацдвижение', 'способствовать', 'ясно', 'телеканал', 'георгий', 'возрастать', 'начало', 'значение', 'экс', 'становиться', 'весна', 'резко', 'имедь']\n",
      "\tТочность: 0.2148809523809524, полнота: 0.2916666666666667, F-мера 0.24745397571484534\n",
      "\ttop-3 co-occurences: ['таргамадзе', 'май', 'рейтинг', 'искусственный', 'принадлежать', 'придавать', 'грех', 'чей', 'держаться', 'мера', 'приближение', 'напоминать', 'схватка', 'нацдвижение', 'вокруг', 'способствовать', 'нагнетание', 'ясно', 'смертный', 'телеканал', 'георгий', 'возрастать', 'начало', 'значение', 'экс', 'становиться', 'весна', 'резко', 'имедь']\n",
      "\tТочность: 0.2260989010989011, полнота: 0.3194444444444444, F-мера 0.2647856982990152\n",
      "window=4\n",
      "\ttop-1 co-occurences: ['таргамадзе', 'май', 'принадлежать', 'телекомпания', 'мера', 'приближение', 'напоминать', 'предстоять', 'схватка', 'пощадить', 'ясно', 'поддержка', 'телеканал', 'георгий', 'бизнесмен', 'становиться', 'имедь']\n",
      "\tТочность: 0.24166666666666667, полнота: 0.3472222222222222, F-мера 0.2849842767295597\n",
      "\ttop-2 co-occurences: ['таргамадзе', 'май', 'рейтинг', 'принадлежать', 'телекомпания', 'некоторые', 'шаткий', 'придавать', 'чей', 'предел', 'держаться', 'мера', 'приближение', 'напоминать', 'предстоять', 'схватка', 'нацдвижение', 'способствовать', 'пощадить', 'ясно', 'внутренний', 'поддержка', 'телеканал', 'серьезный', 'георгий', 'возрастать', 'бизнесмен', 'начало', 'значение', 'экс', 'становиться', 'весна', 'резко', 'имедь', 'президент']\n",
      "\tТочность: 0.2148809523809524, полнота: 0.2916666666666667, F-мера 0.24745397571484534\n",
      "\ttop-3 co-occurences: ['таргамадзе', 'май', 'рейтинг', 'искусственный', 'принадлежать', 'телекомпания', 'некоторые', 'шаткий', 'придавать', 'грех', 'чей', 'предел', 'держаться', 'мера', 'приближение', 'напоминать', 'предстоять', 'схватка', 'нацдвижение', 'вокруг', 'способствовать', 'пощадить', 'нагнетание', 'ясно', 'внутренний', 'поддержка', 'смертный', 'телеканал', 'серьезный', 'абхазия', 'георгий', 'возрастать', 'бизнесмен', 'начало', 'значение', 'экс', 'становиться', 'весна', 'резко', 'имедь', 'президент']\n",
      "\tТочность: 0.2260989010989011, полнота: 0.3194444444444444, F-мера 0.2647856982990152\n",
      "window=5\n",
      "\ttop-1 co-occurences: ['таргамадзе', 'май', 'принадлежать', 'телекомпания', 'жизнь', 'мера', 'приближение', 'напоминать', 'предстоять', 'схватка', 'ясно', 'поддержка', 'телеканал', 'георгий', 'программа', 'бизнесмен', 'становиться', 'максимальный', 'имедь']\n",
      "\tТочность: 0.24166666666666667, полнота: 0.3472222222222222, F-мера 0.2849842767295597\n",
      "\ttop-2 co-occurences: ['таргамадзе', 'май', 'рейтинг', 'принадлежать', 'телекомпания', 'представляться', 'некоторые', 'шаткий', 'придавать', 'жизнь', 'приличествующий', 'чей', 'предел', 'держаться', 'мера', 'приближение', 'председатель', 'напоминать', 'предстоять', 'схватка', 'нацдвижение', 'способствовать', 'данные', 'ясно', 'внутренний', 'поддержка', 'телеканал', 'серьезный', 'георгий', 'программа', 'возрастать', 'бизнесмен', 'противоречие', 'начало', 'значение', 'экс', 'становиться', 'весна', 'резко', 'максимальный', 'имедь', 'президент']\n",
      "\tТочность: 0.2148809523809524, полнота: 0.2916666666666667, F-мера 0.24745397571484534\n",
      "\ttop-3 co-occurences: ['таргамадзе', 'май', 'рейтинг', 'искусственный', 'принадлежать', 'телекомпания', 'представляться', 'некоторые', 'шаткий', 'придавать', 'грех', 'жизнь', 'приличествующий', 'чей', 'предел', 'держаться', 'мера', 'приближение', 'председатель', 'напоминать', 'предстоять', 'схватка', 'нацдвижение', 'вокруг', 'способствовать', 'тирания', 'данные', 'нагнетание', 'ясно', 'внутренний', 'поддержка', 'смертный', 'телеканал', 'серьезный', 'абхазия', 'георгий', 'программа', 'возрастать', 'бизнесмен', 'противоречие', 'начало', 'значение', 'экс', 'становиться', 'весна', 'резко', 'максимальный', 'имедь', 'президент']\n",
      "\tТочность: 0.2260989010989011, полнота: 0.3194444444444444, F-мера 0.2647856982990152\n"
     ]
    }
   ],
   "source": [
    "random.seed() \n",
    "article_ind = choice(range(0, len(ng_data)-1))\n",
    "article_data = ng_data[article_ind]\n",
    "print(article_data[\"title\"].upper())\n",
    "pipeline_for_texts(article_data[\"content\"], article_data[\"keywords\"])"
   ]
  }
 ],
 "metadata": {
  "kernelspec": {
   "display_name": "Python 3",
   "language": "python",
   "name": "python3"
  },
  "language_info": {
   "codemirror_mode": {
    "name": "ipython",
    "version": 3
   },
   "file_extension": ".py",
   "mimetype": "text/x-python",
   "name": "python",
   "nbconvert_exporter": "python",
   "pygments_lexer": "ipython3",
   "version": "3.6.8"
  }
 },
 "nbformat": 4,
 "nbformat_minor": 4
}
