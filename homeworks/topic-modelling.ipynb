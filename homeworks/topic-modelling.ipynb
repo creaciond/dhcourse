{
 "cells": [
  {
   "cell_type": "markdown",
   "metadata": {},
   "source": [
    "# Тематическое моделирование"
   ]
  },
  {
   "cell_type": "markdown",
   "metadata": {},
   "source": [
    "Я честно не придумала, на каком корпусе можно протестировать то, что у меня получится, и решила оставить корпус фантастики. Вместо этого у меня появилась гипотеза для метрики по определению количества топиков."
   ]
  },
  {
   "cell_type": "code",
   "execution_count": null,
   "metadata": {},
   "outputs": [],
   "source": [
    "# а то забуду\n",
    "random_seed = 42"
   ]
  },
  {
   "cell_type": "markdown",
   "metadata": {},
   "source": [
    "## Предобработка"
   ]
  },
  {
   "cell_type": "code",
   "execution_count": null,
   "metadata": {},
   "outputs": [],
   "source": [
    "import os\n",
    "\n",
    "from nltk.corpus import stopwords\n",
    "from pymystem3 import Mystem"
   ]
  },
  {
   "cell_type": "code",
   "execution_count": null,
   "metadata": {},
   "outputs": [],
   "source": [
    "def preprocess_text(text, stops, mystem):\n",
    "    lemmas_list = []\n",
    "    for word_analysis in mystem.analyze(text):\n",
    "        if word_analysis.get(\"analysis\"):\n",
    "            lemma = word_analysis[\"analysis\"][0][\"lex\"]\n",
    "            if lemma not is stops:\n",
    "                lemmas_list.append(lemma)\n",
    "    text_lemmatized = \" \".join(lemmas_list)\n",
    "    return text_lemmatized"
   ]
  },
  {
   "cell_type": "code",
   "execution_count": null,
   "metadata": {},
   "outputs": [],
   "source": [
    "mystem = Mystem()\n",
    "stops = stopwords.words(\"russian\")"
   ]
  },
  {
   "cell_type": "code",
   "execution_count": null,
   "metadata": {},
   "outputs": [],
   "source": [
    "path_to_corpus = \"../data/fantasy_corpus\"\n",
    "processed_texts = []\n",
    "\n",
    "for item in [fn for fn in os.listdir(path_to_corpus) if fn.endswith(\".txt\")]:\n",
    "    with open(os.path.join(path_to_corpus, item), \"r\", encoding=\"utf-8\") as f:\n",
    "        raw_text = f.read()\n",
    "    processed_texts.append(preprocess_text(raw_text, stops, mystem))"
   ]
  },
  {
   "cell_type": "markdown",
   "metadata": {},
   "source": [
    "## TF-IDF"
   ]
  },
  {
   "cell_type": "code",
   "execution_count": null,
   "metadata": {},
   "outputs": [],
   "source": [
    "from sklearn.feature_extraction.text import TfidfVectorizer"
   ]
  },
  {
   "cell_type": "code",
   "execution_count": null,
   "metadata": {},
   "outputs": [],
   "source": [
    "tfidf_vec = TfidfVectorizer()\n",
    "tfidf_m = tfidf_vec.fit_transform(processed_texts)"
   ]
  },
  {
   "cell_type": "markdown",
   "metadata": {},
   "source": [
    "## Обучение и выбор числа топиков\n",
    "\n",
    "**Идея:** я хочу попробовать оттолкнуться от семантической близости слов в топике. Если топик выделился осознанно, то семантическая близость первых 20\\* слов будет высокой.\n",
    "\n",
    "Сейчас (до того, как я начала писать код и проверять эту гипотезу) есть одно «но» — в топик могут входить не только синонимы, но и антонимы (например, слова «дорогой» и «дешёвый» вполне могут вместе попасть в финансовый топик), семантическая близость которых равна -1; тем не менее, кажется, что всё-таки даже если и так, пара антонимов не так сильно утянет значение средней семантической близости вниз, как набор слов в стиле «стул, лошадь, 23».\n",
    "\n",
    "_\\* почему 20? Если мы говорим о «авторитарных» топиках, то кажется, что такое число может отразить и важные слова с большим весом, и менее важные с весом поменьше; в случае с «демократическими» топиками 20 — достаточное число слов, чтобы зацепить разные аспекты, которые могут быть в топике._"
   ]
  },
  {
   "cell_type": "markdown",
   "metadata": {},
   "source": [
    "### Проверка топиков\n",
    "\n",
    "Я буду использовать модель с такими параметрами:\n",
    "\n",
    "* обучена на текстах НКРЯ образца 2019 года,\n",
    "\n",
    "* 270 миллионов слов, объём словаря — 189 193 слова."
   ]
  },
  {
   "cell_type": "code",
   "execution_count": null,
   "metadata": {},
   "outputs": [],
   "source": [
    "import gensim"
   ]
  },
  {
   "cell_type": "code",
   "execution_count": null,
   "metadata": {},
   "outputs": [],
   "source": [
    "w2v_model_path = \"../data/ruscorpora_upos_cbow_300_20_2019.zip\"\n",
    "with zipfile.ZipFile(w2v_model_path, \"r\") as archive:\n",
    "    stream = archive.open(\"model.bin\")\n",
    "    model = gensim.models.KeyedVectors.load_word2vec_format(stream, binary=True)"
   ]
  },
  {
   "cell_type": "markdown",
   "metadata": {},
   "source": [
    "Как считается семантическая близость _слов в топике_: \n",
    "\n",
    "1. составляются все возможные пары из слов, \n",
    "\n",
    "2. для каждой считается сем. близость,\n",
    "\n",
    "3. берётся среднее значение всех полученных величин."
   ]
  },
  {
   "cell_type": "code",
   "execution_count": null,
   "metadata": {},
   "outputs": [],
   "source": [
    "from itertools import combinations\n",
    "from statistics import mean"
   ]
  },
  {
   "cell_type": "code",
   "execution_count": null,
   "metadata": {},
   "outputs": [],
   "source": [
    "def assess_topic(topic_words, model):\n",
    "    sem_similarities = []\n",
    "    for words_pair in combinations(topic_words):\n",
    "        try:\n",
    "            sim = model.similarity(words_pair)\n",
    "        except:\n",
    "            sim = 0\n",
    "        sem_similarities.append(sim)\n",
    "    return mean(sem_similarities)"
   ]
  },
  {
   "cell_type": "code",
   "execution_count": null,
   "metadata": {},
   "outputs": [],
   "source": [
    "def assess_trained_lda(all_topic_words, model):\n",
    "    all_topic_scores = []\n",
    "    for this_topic_words in all_topic_words:\n",
    "        this_topic_score = assess_topic(this_topic_words)\n",
    "        all_topic_scores.append(this_topic_score)\n",
    "    return all_topic_scores"
   ]
  },
  {
   "cell_type": "markdown",
   "metadata": {},
   "source": [
    "### Обучение модели"
   ]
  },
  {
   "cell_type": "code",
   "execution_count": null,
   "metadata": {},
   "outputs": [],
   "source": [
    "from sklearn.decomposition import LatentDirichletAllocation"
   ]
  },
  {
   "cell_type": "code",
   "execution_count": null,
   "metadata": {},
   "outputs": [],
   "source": [
    "def fit_lda(feature_m, num_topics):\n",
    "    # обучаем модель\n",
    "    lda = LatentDirichletAllocation(n_components=num_topics,\n",
    "                                    learning_method=\"online\",\n",
    "                                    random_state=random_seed)\n",
    "    lda = lda.fit(feature_m)\n",
    "    # забираем топ-20 слов топика\n",
    "    # кусочек кода здесь взят из gist-а Бориса Валерьевича, спасибо!\n",
    "    num_top_words = 20\n",
    "    topics = []\n",
    "    for topic_idx, topic in enumerate(lda.components_):\n",
    "        topic_words = [feature_names[i] for i in topic.argsort()[:-num_top_words - 1:-1]]\n",
    "        topics.append(topic_words)\n",
    "    return lda, topics"
   ]
  },
  {
   "cell_type": "markdown",
   "metadata": {},
   "source": [
    "Разброс топиков сделаю на порядок — от 5 до 50.\n",
    "\n",
    "_почему 5? не знаю, просто захотелось 5…_"
   ]
  },
  {
   "cell_type": "code",
   "execution_count": null,
   "metadata": {},
   "outputs": [],
   "source": [
    "experiment_scores = {}\n",
    "experiment_topics = {}\n",
    "\n",
    "for topic_num in range(5, 51):\n",
    "    lda_trained, all_topics_words = fit_lda(feature_m, topic_num)\n",
    "    all_topics_scores = assess_trained_lda(all_topics_words, model)\n",
    "    experiment_scores[topic_num] = mean(all_topics_scores)\n",
    "    experiment_topics[topic_num] = all_topics_words"
   ]
  },
  {
   "cell_type": "markdown",
   "metadata": {},
   "source": [
    "Все результаты сложу в отдельный файл, чтобы тетрадка не превратилась в портянку:"
   ]
  },
  {
   "cell_type": "code",
   "execution_count": null,
   "metadata": {},
   "outputs": [],
   "source": [
    "with open(\"./topic-modelling_topics.txt\", \"w\", encoding=\"utf-8\") as file_topics:\n",
    "    for topic_num in range(5, 51):\n",
    "        file_topics.write(\"{}\\n{}\".format(topic_num, \"\\n\".join(experiment_topics[topic_num])))\n",
    "\n",
    "with open(\"./topic-modelling_scores.txt\", \"w\", encoding=\"utf-8\") as file_scores:\n",
    "    for topic_num in range(5, 51):\n",
    "        file_scores.write(\"{}\\n{}\".format(topic_num, \" \".join(experiment_scores[topic_num])))"
   ]
  },
  {
   "cell_type": "markdown",
   "metadata": {},
   "source": [
    "## Результаты\n",
    "\n",
    "Посмотрим на результат работы модели с лучшей метрикой:"
   ]
  },
  {
   "cell_type": "code",
   "execution_count": null,
   "metadata": {},
   "outputs": [],
   "source": [
    "best_score_topic_num = max(experiment_scores, key=experiment_scores.get)\n",
    "best_score_topic_num"
   ]
  },
  {
   "cell_type": "code",
   "execution_count": null,
   "metadata": {},
   "outputs": [],
   "source": [
    "lda_trained, all_topics_words = fit_lda(feature_m, best_score_topic_num)\n",
    "for i, topic in enumerate(all_topics_words):\n",
    "    print(\"topic no: {}\\twords: {}\".format(i, \", \".join(all_topics_words)))"
   ]
  },
  {
   "cell_type": "markdown",
   "metadata": {},
   "source": [
    "_Бонус:_ ничто не ново под луной — семантику прикручивали ещё в 2013 ([и даже ещё более сложную](https://www.researchgate.net/publication/235974307_Evaluating_Topic_Coherence_Using_Distributional_Semantics)), но результат был сравнительно приятный."
   ]
  },
  {
   "cell_type": "markdown",
   "metadata": {},
   "source": [
    "## Что ещё можно было бы попробовать сделать?\n",
    "\n",
    "Пока я писала плюсы и минусы своей идеи, мне пришло в голову, что тут хорошо бы справилась какая-нибудь онтология или ворднет — благодаря тому, что в них реализована идея уровневости; можно было бы смотреть, совпадают ли у слов в топиках гиперонимы."
   ]
  }
 ],
 "metadata": {
  "kernelspec": {
   "display_name": "Python 3",
   "language": "python",
   "name": "python3"
  },
  "language_info": {
   "codemirror_mode": {
    "name": "ipython",
    "version": 3
   },
   "file_extension": ".py",
   "mimetype": "text/x-python",
   "name": "python",
   "nbconvert_exporter": "python",
   "pygments_lexer": "ipython3",
   "version": "3.6.8"
  }
 },
 "nbformat": 4,
 "nbformat_minor": 4
}
