{
 "cells": [
  {
   "cell_type": "markdown",
   "metadata": {},
   "source": [
    "# Выделение ключевых слов"
   ]
  },
  {
   "cell_type": "markdown",
   "metadata": {},
   "source": [
    "__Идея:__ я хочу проверить, насколько хорошо будет работать матрица совстречаемости, которая будет основана на полном проходе по всему тексту (а не случайному выбору, пусть и большое количество раз, как в random walk, который мы обсуждали на парах).\n",
    "\n",
    "_Дополнительная идея:_ посмотреть, как результат будет зависеть от величины «окна», которую мы зададим."
   ]
  },
  {
   "cell_type": "markdown",
   "metadata": {},
   "source": [
    "## Алгоритм\n",
    "\n",
    "### Обработка текста"
   ]
  },
  {
   "cell_type": "code",
   "execution_count": 14,
   "metadata": {},
   "outputs": [],
   "source": [
    "from nltk.corpus import stopwords\n",
    "from pymystem3 import Mystem\n",
    "from string import punctuation"
   ]
  },
  {
   "cell_type": "code",
   "execution_count": 15,
   "metadata": {},
   "outputs": [],
   "source": [
    "mystem = Mystem()\n",
    "stops = stopwords.words(\"russian\")\n",
    "punctuators = punctuation + \"«–»— \\r\\n\""
   ]
  },
  {
   "cell_type": "code",
   "execution_count": 16,
   "metadata": {},
   "outputs": [],
   "source": [
    "def lemmatize_text(text):\n",
    "    \"\"\"Из исходного текста делает список лемм, очищенных от пунктуации\n",
    "    и стоп-слов.\n",
    "    \n",
    "    :arg text (str): исходный текст, как он загружен из файла\n",
    "    :returns clean_text (list of str): список лемм текста в том порядке, в\n",
    "    котором они были в тексте\n",
    "    \"\"\"\n",
    "    lemmas_raw = [parse[\"analysis\"][0][\"lex\"] for parse in mystem.analyze(text)\n",
    "                  if parse.get(\"analysis\")]\n",
    "    clean_text = [lemma_raw for lemma_raw in lemmas_raw\n",
    "                 if lemma_raw not in stops and lemma_raw not in punctuators]        \n",
    "    return clean_text"
   ]
  },
  {
   "cell_type": "markdown",
   "metadata": {},
   "source": [
    "### Составление матрицы смежности"
   ]
  },
  {
   "cell_type": "code",
   "execution_count": 17,
   "metadata": {},
   "outputs": [],
   "source": [
    "import numpy as np"
   ]
  },
  {
   "cell_type": "code",
   "execution_count": 18,
   "metadata": {},
   "outputs": [],
   "source": [
    "def fill_co_occurence_matrix(text_lemmas, word_list, window):\n",
    "    \"\"\"Собирает матрицу совстречаемости из текста.\n",
    "    \n",
    "    :arg text_lemmas (list of str): лемматизированный и почищенный текст\n",
    "    :arg word_list (list of str): список уникальных слов\n",
    "    :arg window (int): окно, в котором мы считаем совстречаемость\n",
    "    \n",
    "    :returns M_co_occur (np.ndarray): матрица совстречаемости\n",
    "    \"\"\"\n",
    "    M_co_occur = np.zeros((len(word_list), len(word_list)))\n",
    "    for lemma_ind, lemma in enumerate(text_lemmas):\n",
    "        lemma_matrix_index = word_list.index(lemma)\n",
    "        ind_left = max(0, lemma_ind - window)\n",
    "        ind_right = min(lemma_ind + window, len(text_lemmas))\n",
    "        for ind_neighbor in range(ind_left, ind_right):\n",
    "            word_neighbor = text_lemmas[ind_neighbor]\n",
    "            neighbor_matrix_index = word_list.index(word_neighbor)\n",
    "            M_co_occur[lemma_matrix_index][neighbor_matrix_index] += 1\n",
    "    return M_co_occur"
   ]
  },
  {
   "cell_type": "markdown",
   "metadata": {},
   "source": [
    "Предположим, что ключевыми будут те слова, которые соединяются с наибольшим количеством других слов => их совстречаемость будет самой высокой."
   ]
  },
  {
   "cell_type": "code",
   "execution_count": 19,
   "metadata": {},
   "outputs": [],
   "source": [
    "def extract_keywords_from_matrix(matrix, word_list, threshold):\n",
    "    \"\"\"Из матрицы совстречаемости выбирает сколько-то слов с наибольшей \n",
    "    совстречаемостью.\n",
    "    \n",
    "    :arg matrix (np.ndarray): матрица совстречаемости\n",
    "    :arg word_list (list of str): список уникальных слов, на котором строилась \n",
    "    матрица\n",
    "    :arg threshold (int): сколько первых значений совстречаемости брать\n",
    "    \n",
    "    :returns keywords (list of str): сами ключевые слова\n",
    "    \"\"\"\n",
    "    kw_indices = np.where(np.argmax(matrix, axis=1) <= threshold)[0]\n",
    "    keywords = [word_list[kw_ind] for kw_ind in kw_indices]\n",
    "    return keywords"
   ]
  },
  {
   "cell_type": "markdown",
   "metadata": {},
   "source": [
    "### Измеряем качество"
   ]
  },
  {
   "cell_type": "code",
   "execution_count": 26,
   "metadata": {},
   "outputs": [],
   "source": [
    "def evaluate_kws(kws_true, kws_predicted):\n",
    "    \"\"\"Считает точность, полноту, F-меру и коэффициент Жаккара.\n",
    "    \n",
    "    :arg kws_true (list of str): размеченные вручную ключевые слова\n",
    "    :arg kws_predicted (list of str): ключевые слова, найденные алгоритмом\n",
    "    \n",
    "    :returns precision, recall, f_score, jaccard (float): метрики\n",
    "    \"\"\"\n",
    "    intersection = len(set(kws_true) & set(kws_predicted))\n",
    "    precision = intersection / len(kws_predicted)\n",
    "    recall = intersection / len(kws_true)\n",
    "    try:\n",
    "        f_score = (2 * precision * recall)/(precision + recall)\n",
    "    except:\n",
    "        f_score = 0\n",
    "    jaccard = intersection / len(set(kws_true) | set(kws_predicted))\n",
    "    return precision, recall, f_score, jaccard"
   ]
  },
  {
   "cell_type": "markdown",
   "metadata": {},
   "source": [
    "### Всё вместе"
   ]
  },
  {
   "cell_type": "code",
   "execution_count": 21,
   "metadata": {},
   "outputs": [],
   "source": [
    "def pipeline_for_texts(text, kw_true):\n",
    "    \"\"\"Единая функция-обёртка для работы с текстом от и до.\n",
    "    \n",
    "    :arg text (str): исходный текст\n",
    "    :arg kw_true (list of str): приписанные вручную ключевые слова из датасета\n",
    "    \"\"\"\n",
    "    text_lemmas = lemmatize_text(text)\n",
    "    word_list = list(set(text_lemmas))\n",
    "    for window in range(1, 6):\n",
    "        print(\"window={}\".format(window))\n",
    "        M = fill_co_occurence_matrix(text_lemmas, word_list, window)\n",
    "        for thresh in range(1, 4):\n",
    "            kw = extract_keywords_from_matrix(M, word_list, thresh)\n",
    "            print(\"\\ttop-{} co-occurences: {}\".format(thresh, kw))\n",
    "            precision, recall, f1, jaccard = evaluate_kws(kw_true, kw)\n",
    "            print(\"\\tP={:.5f}, R={:.5f}, F1={:.5f}, J={:.5f}\".format(precision, recall, f1, jaccard))"
   ]
  },
  {
   "cell_type": "markdown",
   "metadata": {},
   "source": [
    "## Подгружаем данные из датасета\n",
    "\n",
    "Датасет — [ru-kw-eval](https://github.com/mannefedov/ru_kw_eval_datasets), я взяла одну из Независимых газет (ха-ха)."
   ]
  },
  {
   "cell_type": "code",
   "execution_count": 22,
   "metadata": {},
   "outputs": [],
   "source": [
    "import json"
   ]
  },
  {
   "cell_type": "code",
   "execution_count": 23,
   "metadata": {},
   "outputs": [],
   "source": [
    "ng_data = []\n",
    "with open(\"../data/ng_0.jsonlines\", \"r\") as f:\n",
    "    for line in f.readlines():\n",
    "        ng_data.append(json.loads(line))"
   ]
  },
  {
   "cell_type": "markdown",
   "metadata": {},
   "source": [
    "Возьмём какую-нибудь случайную статью и посмотрим, как работает:"
   ]
  },
  {
   "cell_type": "code",
   "execution_count": 24,
   "metadata": {},
   "outputs": [],
   "source": [
    "import random"
   ]
  },
  {
   "cell_type": "code",
   "execution_count": 37,
   "metadata": {},
   "outputs": [
    {
     "name": "stdout",
     "output_type": "stream",
     "text": [
      "TITLE: Хулиганы и витязи\n",
      "KEYWORDS: ['сша', 'юмор', 'ирония', 'проза', 'эмиграция', 'провинция', 'еврея', 'тигр', 'монеты', 'макдональдс']\n",
      "window=1\n",
      "\ttop-1 co-occurences: ['заскакивать', 'какой-то', 'бумажка', 'доллар', 'следующий']\n",
      "\tP=0.00000, R=0.00000, F1=0.00000, J=0.00000\n",
      "\ttop-2 co-occurences: ['заскакивать', 'какой-то', 'видение', 'бумажка', 'доллар', 'черт', 'следующий']\n",
      "\tP=0.00000, R=0.00000, F1=0.00000, J=0.00000\n",
      "\ttop-3 co-occurences: ['заскакивать', 'какой-то', 'видение', 'удивляться', 'бумажка', 'доллар', 'черт', 'следующий', 'обилие']\n",
      "\tP=0.00000, R=0.00000, F1=0.00000, J=0.00000\n",
      "window=2\n",
      "\ttop-1 co-occurences: ['заскакивать', 'какой-то', 'бумажка', 'доллар', 'стыдно', 'красавица', 'неделя', 'следующий', 'бежать', 'печать']\n",
      "\tP=0.00000, R=0.00000, F1=0.00000, J=0.00000\n",
      "\ttop-2 co-occurences: ['заскакивать', 'какой-то', 'видение', 'бумажка', 'доллар', 'стыдно', 'красавица', 'черт', 'неделя', 'просто', 'следующий', 'бежать', 'печать']\n",
      "\tP=0.00000, R=0.00000, F1=0.00000, J=0.00000\n",
      "\ttop-3 co-occurences: ['заскакивать', 'какой-то', 'видение', 'удивляться', 'бумажка', 'зал', 'доллар', 'стыдно', 'красавица', 'черт', 'неделя', 'просто', 'следующий', 'обилие', 'бежать', 'печать']\n",
      "\tP=0.00000, R=0.00000, F1=0.00000, J=0.00000\n",
      "window=3\n",
      "\ttop-1 co-occurences: ['заскакивать', 'какой-то', 'пойти', 'бумажка', 'улетать', 'доллар', 'стыдно', 'извинять', 'красавица', 'ставить', 'неделя', 'следующий', 'бежать', 'попросить', 'печать']\n",
      "\tP=0.00000, R=0.00000, F1=0.00000, J=0.00000\n",
      "\ttop-2 co-occurences: ['заскакивать', 'какой-то', 'видение', 'пойти', 'бумажка', 'улетать', 'доллар', 'стыдно', 'извинять', 'красавица', 'черт', 'ставить', 'неделя', 'просто', 'равный', 'следующий', 'бежать', 'попросить', 'печать']\n",
      "\tP=0.00000, R=0.00000, F1=0.00000, J=0.00000\n",
      "\ttop-3 co-occurences: ['заскакивать', 'какой-то', 'видение', 'удивляться', 'пойти', 'бумажка', 'улетать', 'зал', 'доллар', 'стыдно', 'извинять', 'красавица', 'черт', 'ставить', 'неделя', 'просто', 'равный', 'следующий', 'прелестный', 'обилие', 'бежать', 'попросить', 'печать']\n",
      "\tP=0.00000, R=0.00000, F1=0.00000, J=0.00000\n",
      "window=4\n",
      "\ttop-1 co-occurences: ['заскакивать', 'какой-то', 'пойти', 'бумажка', 'коридор', 'улетать', 'доллар', 'стыдно', 'извинять', 'красавица', 'ставить', 'неделя', 'тигр', 'следующий', 'любой', 'бежать', 'попросить', 'печать']\n",
      "\tP=0.05556, R=0.10000, F1=0.07143, J=0.03704\n",
      "\ttop-2 co-occurences: ['заскакивать', 'какой-то', 'видение', 'пойти', 'бумажка', 'коридор', 'улетать', 'доллар', 'стыдно', 'извинять', 'красавица', 'ставить', 'неделя', 'просто', 'равный', 'тигр', 'следующий', 'любой', 'бежать', 'попросить', 'печать']\n",
      "\tP=0.04762, R=0.10000, F1=0.06452, J=0.03333\n",
      "\ttop-3 co-occurences: ['заскакивать', 'какой-то', 'видение', 'удивляться', 'пойти', 'бумажка', 'коридор', 'улетать', 'зал', 'доллар', 'стыдно', 'извинять', 'красавица', 'ставить', 'неделя', 'просто', 'равный', 'тигр', 'следующий', 'прелестный', 'любой', 'обилие', 'бежать', 'попросить', 'печать']\n",
      "\tP=0.04000, R=0.10000, F1=0.05714, J=0.02941\n",
      "window=5\n",
      "\ttop-1 co-occurences: ['заскакивать', 'какой-то', 'пойти', 'бумажка', 'ответ', 'коридор', 'побыть', 'улетать', 'доллар', 'стыдно', 'извинять', 'красавица', 'ставить', 'неделя', 'тигр', 'глаз', 'следующий', 'любой', 'бежать', 'попросить', 'магазин', 'печать']\n",
      "\tP=0.04545, R=0.10000, F1=0.06250, J=0.03226\n",
      "\ttop-2 co-occurences: ['заскакивать', 'какой-то', 'пойти', 'бумажка', 'ответ', 'коридор', 'побыть', 'улетать', 'доллар', 'стыдно', 'вообще', 'извинять', 'красавица', 'ставить', 'неделя', 'просто', 'равный', 'тигр', 'глаз', 'следующий', 'любой', 'бежать', 'попросить', 'магазин', 'печать']\n",
      "\tP=0.04000, R=0.10000, F1=0.05714, J=0.02941\n",
      "\ttop-3 co-occurences: ['заскакивать', 'какой-то', 'удивляться', 'пойти', 'бумажка', 'ответ', 'коридор', 'ага', 'побыть', 'улетать', 'зал', 'доллар', 'стыдно', 'вообще', 'извинять', 'красавица', 'ставить', 'неделя', 'просто', 'равный', 'тигр', 'глаз', 'следующий', 'прелестный', 'любой', 'обилие', 'бежать', 'попросить', 'магазин', 'печать']\n",
      "\tP=0.03333, R=0.10000, F1=0.05000, J=0.02564\n"
     ]
    }
   ],
   "source": [
    "random.seed() \n",
    "article_ind = random.choice(range(0, len(ng_data)-1))\n",
    "article_data = ng_data[article_ind]\n",
    "\n",
    "print(\"TITLE: {}\".format(article_data[\"title\"]))\n",
    "print(\"KEYWORDS: {}\".format(article_data[\"keywords\"]))\n",
    "\n",
    "pipeline_for_texts(article_data[\"content\"], article_data[\"keywords\"])"
   ]
  },
  {
   "cell_type": "markdown",
   "metadata": {},
   "source": [
    "## Выводы\n",
    "\n",
    "1) Возможно, результаты такие ужасные, потому что в ключевых словах есть ещё и биграммы, которые не реализованы в этом алгоритме;\n",
    "\n",
    "2) random walk не такой уж и плохой алгоритм;\n",
    "\n",
    "3) новостные заметки небольшие, и поэтому совстречаемость может работать не очень хорошо, т.к. на малом объёме будет большая вариативность лемм, а чем текст больше, тем больше леммы повторяются."
   ]
  }
 ],
 "metadata": {
  "kernelspec": {
   "display_name": "Python 3",
   "language": "python",
   "name": "python3"
  },
  "language_info": {
   "codemirror_mode": {
    "name": "ipython",
    "version": 3
   },
   "file_extension": ".py",
   "mimetype": "text/x-python",
   "name": "python",
   "nbconvert_exporter": "python",
   "pygments_lexer": "ipython3",
   "version": "3.6.8"
  }
 },
 "nbformat": 4,
 "nbformat_minor": 4
}
