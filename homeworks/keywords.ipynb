{
 "cells": [
  {
   "cell_type": "markdown",
   "metadata": {},
   "source": [
    "# Выделение ключевых слов"
   ]
  },
  {
   "cell_type": "markdown",
   "metadata": {},
   "source": [
    "__Идея:__ я хочу проверить, насколько хорошо будет работать матрица совстречаемости, которая будет основана на полном проходе по всему тексту (а не случайному выбору, пусть и большое количество раз, как в random walk, который мы обсуждали на парах).\n",
    "\n",
    "_Дополнительная идея:_ посмотреть, как результат будет зависеть от величины «окна», которую мы зададим."
   ]
  },
  {
   "cell_type": "markdown",
   "metadata": {},
   "source": [
    "## Алгоритм\n",
    "\n",
    "### Обработка текста"
   ]
  },
  {
   "cell_type": "code",
   "execution_count": 1,
   "metadata": {},
   "outputs": [],
   "source": [
    "from nltk.corpus import stopwords\n",
    "from pymystem3 import Mystem\n",
    "from string import punctuation"
   ]
  },
  {
   "cell_type": "code",
   "execution_count": 2,
   "metadata": {},
   "outputs": [],
   "source": [
    "mystem = Mystem()\n",
    "stops = stopwords.words(\"russian\")\n",
    "punctuators = punctuation + \"«–»— \\r\\n\""
   ]
  },
  {
   "cell_type": "code",
   "execution_count": 3,
   "metadata": {},
   "outputs": [],
   "source": [
    "def lemmatize_text(text):\n",
    "    \"\"\"Из исходного текста делает список лемм, очищенных от пунктуации\n",
    "    и стоп-слов.\n",
    "    \n",
    "    :arg text (str): исходный текст, как он загружен из файла\n",
    "    :returns clean_text (list of str): список лемм текста в том порядке, в\n",
    "    котором они были в тексте\n",
    "    \"\"\"\n",
    "    lemmas_raw = [parse[\"analysis\"][0][\"lex\"] for parse in mystem.analyze(text)\n",
    "                  if parse.get(\"analysis\")]\n",
    "    clean_text = [lemma_raw for lemma_raw in lemmas_raw\n",
    "                 if lemma_raw not in stops and lemma_raw not in punctuators]        \n",
    "    return clean_text"
   ]
  },
  {
   "cell_type": "markdown",
   "metadata": {},
   "source": [
    "### Составление матрицы смежности"
   ]
  },
  {
   "cell_type": "code",
   "execution_count": 4,
   "metadata": {},
   "outputs": [],
   "source": [
    "import numpy as np\n",
    "from heapq import nlargest"
   ]
  },
  {
   "cell_type": "code",
   "execution_count": 5,
   "metadata": {},
   "outputs": [],
   "source": [
    "def fill_co_occurence_matrix(text_lemmas, word_list, window):\n",
    "    \"\"\"Собирает матрицу совстречаемости из текста.\n",
    "    \n",
    "    :arg text_lemmas (list of str): лемматизированный и почищенный текст\n",
    "    :arg word_list (list of str): список уникальных слов\n",
    "    :arg window (int): окно, в котором мы считаем совстречаемость\n",
    "    \n",
    "    :returns M_co_occur (np.ndarray): матрица совстречаемости\n",
    "    \"\"\"\n",
    "    M_co_occur = np.zeros((len(word_list), len(word_list)))\n",
    "    for lemma_ind, lemma in enumerate(text_lemmas):\n",
    "        lemma_matrix_index = word_list.index(lemma)\n",
    "        ind_left = max(0, lemma_ind - window)\n",
    "        ind_right = min(lemma_ind + window, len(text_lemmas))\n",
    "        for ind_neighbor in range(ind_left, ind_right):\n",
    "            word_neighbor = text_lemmas[ind_neighbor]\n",
    "            neighbor_matrix_index = word_list.index(word_neighbor)\n",
    "            M_co_occur[lemma_matrix_index][neighbor_matrix_index] += 1\n",
    "    return M_co_occur"
   ]
  },
  {
   "cell_type": "markdown",
   "metadata": {},
   "source": [
    "Предположим, что ключевыми будут те слова, которые соединяются с наибольшим количеством других слов => их совстречаемость будет самой высокой.\n",
    "\n",
    "<font style=\"color: blue\">**UPD 6.05:** исправила баг и поменяла `argmax` на `sum`.\n",
    "Совстречаемые слова теперь подбираются с помощью выбора `max_items` наибольших на векторе сумм встречаемостей (алгоритм [тут](https://medium.com/@yurybelousov/the-beauty-of-python-or-how-to-get-indices-of-n-maximum-values-in-the-array-d362385794ef)).\n",
    "</font>"
   ]
  },
  {
   "cell_type": "code",
   "execution_count": 70,
   "metadata": {},
   "outputs": [],
   "source": [
    "def extract_keywords_from_matrix(matrix, word_list, max_items):\n",
    "    \"\"\"Из матрицы совстречаемости выбирает сколько-то слов с наибольшей \n",
    "    совстречаемостью.\n",
    "    \n",
    "    :arg matrix (np.ndarray): матрица совстречаемости\n",
    "    :arg word_list (list of str): список уникальных слов, на котором строилась \n",
    "    матрица\n",
    "    :arg max_items (int): сколько первых значений совстречаемости брать\n",
    "    \n",
    "    :returns keywords (list of str): сами ключевые слова\n",
    "    \"\"\"\n",
    "    matrix_sum = matrix.sum(axis=1)\n",
    "    # выглядит страшно, но просто это оптимальный алгоритм для поиска N наибольших величин\n",
    "    # реализован через очередь со стеками, работает за линейное время — для заметок, может, не так\n",
    "    # уж и важно, но для больших текстов уже будет заметно\n",
    "    kw_indices = nlargest(max_items, range(len(matrix_sum)), matrix_sum.__getitem__)\n",
    "    keywords = [word_list[kw_ind] for kw_ind in kw_indices]\n",
    "    return keywords"
   ]
  },
  {
   "cell_type": "markdown",
   "metadata": {},
   "source": [
    "### Измеряем качество"
   ]
  },
  {
   "cell_type": "code",
   "execution_count": 7,
   "metadata": {},
   "outputs": [],
   "source": [
    "def evaluate_kws(kws_true, kws_predicted):\n",
    "    \"\"\"Считает точность, полноту, F-меру и коэффициент Жаккара.\n",
    "    \n",
    "    :arg kws_true (list of str): размеченные вручную ключевые слова\n",
    "    :arg kws_predicted (list of str): ключевые слова, найденные алгоритмом\n",
    "    \n",
    "    :returns precision, recall, f_score, jaccard (float): метрики\n",
    "    \"\"\"\n",
    "    intersection = len(set(kws_true) & set(kws_predicted))\n",
    "    precision = intersection / len(kws_predicted)\n",
    "    recall = intersection / len(kws_true)\n",
    "    try:\n",
    "        f_score = (2 * precision * recall)/(precision + recall)\n",
    "    except:\n",
    "        f_score = 0\n",
    "    jaccard = intersection / len(set(kws_true) | set(kws_predicted))\n",
    "    return precision, recall, f_score, jaccard"
   ]
  },
  {
   "cell_type": "markdown",
   "metadata": {},
   "source": [
    "### Всё вместе"
   ]
  },
  {
   "cell_type": "code",
   "execution_count": 77,
   "metadata": {},
   "outputs": [],
   "source": [
    "def pipeline_for_texts(text, kw_true):\n",
    "    \"\"\"Единая функция-обёртка для работы с текстом от и до.\n",
    "    \n",
    "    :arg text (str): исходный текст\n",
    "    :arg kw_true (list of str): приписанные вручную ключевые слова из датасета\n",
    "    \"\"\"\n",
    "    text_lemmas = lemmatize_text(text)\n",
    "    word_list = list(set(text_lemmas))\n",
    "    for window in range(1, 6):\n",
    "        print(\"window={}\".format(window))\n",
    "        M = fill_co_occurence_matrix(text_lemmas, word_list, window)\n",
    "        for thresh in range(1, 11):\n",
    "            kw = extract_keywords_from_matrix(M, word_list, thresh)\n",
    "            print(\"\\ttop-{} most co-occurring words: {}\".format(thresh, kw))\n",
    "            precision, recall, f1, jaccard = evaluate_kws(kw_true, kw)\n",
    "            print(\"\\tP={:.5f}, R={:.5f}, F1={:.5f}, J={:.5f}\".format(precision, recall, f1, jaccard))"
   ]
  },
  {
   "cell_type": "markdown",
   "metadata": {},
   "source": [
    "## Подгружаем данные из датасета\n",
    "\n",
    "Датасет — [ru-kw-eval](https://github.com/mannefedov/ru_kw_eval_datasets), я взяла одну из Независимых газет (ха-ха)."
   ]
  },
  {
   "cell_type": "code",
   "execution_count": 9,
   "metadata": {},
   "outputs": [],
   "source": [
    "import json"
   ]
  },
  {
   "cell_type": "code",
   "execution_count": 10,
   "metadata": {},
   "outputs": [],
   "source": [
    "ng_data = []\n",
    "with open(\"../data/ng_0.jsonlines\", \"r\") as f:\n",
    "    for line in f.readlines():\n",
    "        ng_data.append(json.loads(line))"
   ]
  },
  {
   "cell_type": "markdown",
   "metadata": {},
   "source": [
    "Возьмём какую-нибудь случайную статью и посмотрим, как работает:"
   ]
  },
  {
   "cell_type": "code",
   "execution_count": 11,
   "metadata": {},
   "outputs": [],
   "source": [
    "import random"
   ]
  },
  {
   "cell_type": "markdown",
   "metadata": {},
   "source": [
    "<font style=\"color: blue\">**UPD 6.05:** Скопируйте код отсюда, чтобы это был действительно случайный эксперимент: </font>\n",
    "\n",
    "```python\n",
    "random.seed() \n",
    "article_ind = random.choice(range(0, len(ng_data)-1))\n",
    "article_data = ng_data[article_ind]\n",
    "\n",
    "print(\"TITLE: {}\".format(article_data[\"title\"]))\n",
    "print(\"KEYWORDS: {}\".format(article_data[\"keywords\"]))\n",
    "\n",
    "pipeline_for_texts(article_data[\"content\"], article_data[\"keywords\"])\n",
    "```\n",
    "\n",
    "<font style=\"color: blue\">Я уже наигралась, да и вообще это доделка, поэтому внизу будут два варианта с хардкодом — один получше, другой похуже.</font>"
   ]
  },
  {
   "cell_type": "code",
   "execution_count": 78,
   "metadata": {
    "scrolled": true
   },
   "outputs": [
    {
     "name": "stdout",
     "output_type": "stream",
     "text": [
      "TITLE: Москва объявила всем,  что обладает принципиально новым сверхмощным оружием\n",
      "KEYWORDS: ['президент', 'послание', 'вооружения', 'стратегическое оружие']\n",
      "window=1\n",
      "\ttop-1 most co-occurring words: ['ракета']\n",
      "\tP=0.00000, R=0.00000, F1=0.00000, J=0.00000\n",
      "\ttop-2 most co-occurring words: ['ракета', 'новый']\n",
      "\tP=0.00000, R=0.00000, F1=0.00000, J=0.00000\n",
      "\ttop-3 most co-occurring words: ['ракета', 'новый', 'комплекс']\n",
      "\tP=0.00000, R=0.00000, F1=0.00000, J=0.00000\n",
      "\ttop-4 most co-occurring words: ['ракета', 'новый', 'комплекс', 'система']\n",
      "\tP=0.00000, R=0.00000, F1=0.00000, J=0.00000\n",
      "\ttop-5 most co-occurring words: ['ракета', 'новый', 'комплекс', 'система', 'президент']\n",
      "\tP=0.20000, R=0.25000, F1=0.22222, J=0.12500\n",
      "\ttop-6 most co-occurring words: ['ракета', 'новый', 'комплекс', 'система', 'президент', 'владимир']\n",
      "\tP=0.16667, R=0.25000, F1=0.20000, J=0.11111\n",
      "\ttop-7 most co-occurring words: ['ракета', 'новый', 'комплекс', 'система', 'президент', 'владимир', 'ракетный']\n",
      "\tP=0.14286, R=0.25000, F1=0.18182, J=0.10000\n",
      "\ttop-8 most co-occurring words: ['ракета', 'новый', 'комплекс', 'система', 'президент', 'владимир', 'ракетный', 'сармат']\n",
      "\tP=0.12500, R=0.25000, F1=0.16667, J=0.09091\n",
      "\ttop-9 most co-occurring words: ['ракета', 'новый', 'комплекс', 'система', 'президент', 'владимир', 'ракетный', 'сармат', 'боевой']\n",
      "\tP=0.11111, R=0.25000, F1=0.15385, J=0.08333\n",
      "\ttop-10 most co-occurring words: ['ракета', 'новый', 'комплекс', 'система', 'президент', 'владимир', 'ракетный', 'сармат', 'боевой', 'гиперзвуковой']\n",
      "\tP=0.10000, R=0.25000, F1=0.14286, J=0.07692\n",
      "window=2\n",
      "\ttop-1 most co-occurring words: ['ракета']\n",
      "\tP=0.00000, R=0.00000, F1=0.00000, J=0.00000\n",
      "\ttop-2 most co-occurring words: ['ракета', 'новый']\n",
      "\tP=0.00000, R=0.00000, F1=0.00000, J=0.00000\n",
      "\ttop-3 most co-occurring words: ['ракета', 'новый', 'комплекс']\n",
      "\tP=0.00000, R=0.00000, F1=0.00000, J=0.00000\n",
      "\ttop-4 most co-occurring words: ['ракета', 'новый', 'комплекс', 'система']\n",
      "\tP=0.00000, R=0.00000, F1=0.00000, J=0.00000\n",
      "\ttop-5 most co-occurring words: ['ракета', 'новый', 'комплекс', 'система', 'президент']\n",
      "\tP=0.20000, R=0.25000, F1=0.22222, J=0.12500\n",
      "\ttop-6 most co-occurring words: ['ракета', 'новый', 'комплекс', 'система', 'президент', 'владимир']\n",
      "\tP=0.16667, R=0.25000, F1=0.20000, J=0.11111\n",
      "\ttop-7 most co-occurring words: ['ракета', 'новый', 'комплекс', 'система', 'президент', 'владимир', 'ракетный']\n",
      "\tP=0.14286, R=0.25000, F1=0.18182, J=0.10000\n",
      "\ttop-8 most co-occurring words: ['ракета', 'новый', 'комплекс', 'система', 'президент', 'владимир', 'ракетный', 'сармат']\n",
      "\tP=0.12500, R=0.25000, F1=0.16667, J=0.09091\n",
      "\ttop-9 most co-occurring words: ['ракета', 'новый', 'комплекс', 'система', 'президент', 'владимир', 'ракетный', 'сармат', 'боевой']\n",
      "\tP=0.11111, R=0.25000, F1=0.15385, J=0.08333\n",
      "\ttop-10 most co-occurring words: ['ракета', 'новый', 'комплекс', 'система', 'президент', 'владимир', 'ракетный', 'сармат', 'боевой', 'гиперзвуковой']\n",
      "\tP=0.10000, R=0.25000, F1=0.14286, J=0.07692\n",
      "window=3\n",
      "\ttop-1 most co-occurring words: ['ракета']\n",
      "\tP=0.00000, R=0.00000, F1=0.00000, J=0.00000\n",
      "\ttop-2 most co-occurring words: ['ракета', 'новый']\n",
      "\tP=0.00000, R=0.00000, F1=0.00000, J=0.00000\n",
      "\ttop-3 most co-occurring words: ['ракета', 'новый', 'комплекс']\n",
      "\tP=0.00000, R=0.00000, F1=0.00000, J=0.00000\n",
      "\ttop-4 most co-occurring words: ['ракета', 'новый', 'комплекс', 'система']\n",
      "\tP=0.00000, R=0.00000, F1=0.00000, J=0.00000\n",
      "\ttop-5 most co-occurring words: ['ракета', 'новый', 'комплекс', 'система', 'президент']\n",
      "\tP=0.20000, R=0.25000, F1=0.22222, J=0.12500\n",
      "\ttop-6 most co-occurring words: ['ракета', 'новый', 'комплекс', 'система', 'президент', 'владимир']\n",
      "\tP=0.16667, R=0.25000, F1=0.20000, J=0.11111\n",
      "\ttop-7 most co-occurring words: ['ракета', 'новый', 'комплекс', 'система', 'президент', 'владимир', 'ракетный']\n",
      "\tP=0.14286, R=0.25000, F1=0.18182, J=0.10000\n",
      "\ttop-8 most co-occurring words: ['ракета', 'новый', 'комплекс', 'система', 'президент', 'владимир', 'ракетный', 'сармат']\n",
      "\tP=0.12500, R=0.25000, F1=0.16667, J=0.09091\n",
      "\ttop-9 most co-occurring words: ['ракета', 'новый', 'комплекс', 'система', 'президент', 'владимир', 'ракетный', 'сармат', 'боевой']\n",
      "\tP=0.11111, R=0.25000, F1=0.15385, J=0.08333\n",
      "\ttop-10 most co-occurring words: ['ракета', 'новый', 'комплекс', 'система', 'президент', 'владимир', 'ракетный', 'сармат', 'боевой', 'гиперзвуковой']\n",
      "\tP=0.10000, R=0.25000, F1=0.14286, J=0.07692\n",
      "window=4\n",
      "\ttop-1 most co-occurring words: ['ракета']\n",
      "\tP=0.00000, R=0.00000, F1=0.00000, J=0.00000\n",
      "\ttop-2 most co-occurring words: ['ракета', 'новый']\n",
      "\tP=0.00000, R=0.00000, F1=0.00000, J=0.00000\n",
      "\ttop-3 most co-occurring words: ['ракета', 'новый', 'комплекс']\n",
      "\tP=0.00000, R=0.00000, F1=0.00000, J=0.00000\n",
      "\ttop-4 most co-occurring words: ['ракета', 'новый', 'комплекс', 'система']\n",
      "\tP=0.00000, R=0.00000, F1=0.00000, J=0.00000\n",
      "\ttop-5 most co-occurring words: ['ракета', 'новый', 'комплекс', 'система', 'президент']\n",
      "\tP=0.20000, R=0.25000, F1=0.22222, J=0.12500\n",
      "\ttop-6 most co-occurring words: ['ракета', 'новый', 'комплекс', 'система', 'президент', 'владимир']\n",
      "\tP=0.16667, R=0.25000, F1=0.20000, J=0.11111\n",
      "\ttop-7 most co-occurring words: ['ракета', 'новый', 'комплекс', 'система', 'президент', 'владимир', 'ракетный']\n",
      "\tP=0.14286, R=0.25000, F1=0.18182, J=0.10000\n",
      "\ttop-8 most co-occurring words: ['ракета', 'новый', 'комплекс', 'система', 'президент', 'владимир', 'ракетный', 'сармат']\n",
      "\tP=0.12500, R=0.25000, F1=0.16667, J=0.09091\n",
      "\ttop-9 most co-occurring words: ['ракета', 'новый', 'комплекс', 'система', 'президент', 'владимир', 'ракетный', 'сармат', 'боевой']\n",
      "\tP=0.11111, R=0.25000, F1=0.15385, J=0.08333\n",
      "\ttop-10 most co-occurring words: ['ракета', 'новый', 'комплекс', 'система', 'президент', 'владимир', 'ракетный', 'сармат', 'боевой', 'гиперзвуковой']\n",
      "\tP=0.10000, R=0.25000, F1=0.14286, J=0.07692\n",
      "window=5\n",
      "\ttop-1 most co-occurring words: ['ракета']\n",
      "\tP=0.00000, R=0.00000, F1=0.00000, J=0.00000\n",
      "\ttop-2 most co-occurring words: ['ракета', 'новый']\n",
      "\tP=0.00000, R=0.00000, F1=0.00000, J=0.00000\n",
      "\ttop-3 most co-occurring words: ['ракета', 'новый', 'комплекс']\n",
      "\tP=0.00000, R=0.00000, F1=0.00000, J=0.00000\n",
      "\ttop-4 most co-occurring words: ['ракета', 'новый', 'комплекс', 'система']\n",
      "\tP=0.00000, R=0.00000, F1=0.00000, J=0.00000\n",
      "\ttop-5 most co-occurring words: ['ракета', 'новый', 'комплекс', 'система', 'президент']\n",
      "\tP=0.20000, R=0.25000, F1=0.22222, J=0.12500\n",
      "\ttop-6 most co-occurring words: ['ракета', 'новый', 'комплекс', 'система', 'президент', 'владимир']\n",
      "\tP=0.16667, R=0.25000, F1=0.20000, J=0.11111\n",
      "\ttop-7 most co-occurring words: ['ракета', 'новый', 'комплекс', 'система', 'президент', 'владимир', 'ракетный']\n",
      "\tP=0.14286, R=0.25000, F1=0.18182, J=0.10000\n",
      "\ttop-8 most co-occurring words: ['ракета', 'новый', 'комплекс', 'система', 'президент', 'владимир', 'ракетный', 'сармат']\n",
      "\tP=0.12500, R=0.25000, F1=0.16667, J=0.09091\n",
      "\ttop-9 most co-occurring words: ['ракета', 'новый', 'комплекс', 'система', 'президент', 'владимир', 'ракетный', 'сармат', 'боевой']\n",
      "\tP=0.11111, R=0.25000, F1=0.15385, J=0.08333\n",
      "\ttop-10 most co-occurring words: ['ракета', 'новый', 'комплекс', 'система', 'президент', 'владимир', 'ракетный', 'сармат', 'боевой', 'гиперзвуковой']\n",
      "\tP=0.10000, R=0.25000, F1=0.14286, J=0.07692\n"
     ]
    }
   ],
   "source": [
    "worse_res_ind = 437\n",
    "# Москва объявила всем,  что обладает принципиально новым сверхмощным оружием\n",
    "article_data = ng_data[worse_res_ind]\n",
    "\n",
    "print(\"TITLE: {}\".format(article_data[\"title\"]))\n",
    "print(\"KEYWORDS: {}\".format(article_data[\"keywords\"]))\n",
    "\n",
    "pipeline_for_texts(article_data[\"content\"], article_data[\"keywords\"])"
   ]
  },
  {
   "cell_type": "code",
   "execution_count": 95,
   "metadata": {
    "scrolled": true
   },
   "outputs": [
    {
     "name": "stdout",
     "output_type": "stream",
     "text": [
      "TITLE: \"Талибан\" берет верх в Афганистане\n",
      "KEYWORDS: ['афганистан', 'талибан', 'даиш']\n",
      "window=1\n",
      "\ttop-1 most co-occurring words: ['даиш']\n",
      "\tP=1.00000, R=0.33333, F1=0.50000, J=0.33333\n",
      "\ttop-2 most co-occurring words: ['даиш', 'группа']\n",
      "\tP=0.50000, R=0.33333, F1=0.40000, J=0.25000\n",
      "\ttop-3 most co-occurring words: ['даиш', 'группа', 'шура']\n",
      "\tP=0.33333, R=0.33333, F1=0.33333, J=0.20000\n",
      "\ttop-4 most co-occurring words: ['даиш', 'группа', 'шура', 'афганистан']\n",
      "\tP=0.50000, R=0.66667, F1=0.57143, J=0.40000\n",
      "\ttop-5 most co-occurring words: ['даиш', 'группа', 'шура', 'афганистан', 'кветта']\n",
      "\tP=0.40000, R=0.66667, F1=0.50000, J=0.33333\n",
      "\ttop-6 most co-occurring words: ['даиш', 'группа', 'шура', 'афганистан', 'кветта', 'год']\n",
      "\tP=0.33333, R=0.66667, F1=0.44444, J=0.28571\n",
      "\ttop-7 most co-occurring words: ['даиш', 'группа', 'шура', 'афганистан', 'кветта', 'год', 'фарука']\n",
      "\tP=0.28571, R=0.66667, F1=0.40000, J=0.25000\n",
      "\ttop-8 most co-occurring words: ['даиш', 'группа', 'шура', 'афганистан', 'кветта', 'год', 'фарука', 'это']\n",
      "\tP=0.25000, R=0.66667, F1=0.36364, J=0.22222\n",
      "\ttop-9 most co-occurring words: ['даиш', 'группа', 'шура', 'афганистан', 'кветта', 'год', 'фарука', 'это', 'местный']\n",
      "\tP=0.22222, R=0.66667, F1=0.33333, J=0.20000\n",
      "\ttop-10 most co-occurring words: ['даиш', 'группа', 'шура', 'афганистан', 'кветта', 'год', 'фарука', 'это', 'местный', 'муавия']\n",
      "\tP=0.20000, R=0.66667, F1=0.30769, J=0.18182\n",
      "window=2\n",
      "\ttop-1 most co-occurring words: ['даиш']\n",
      "\tP=1.00000, R=0.33333, F1=0.50000, J=0.33333\n",
      "\ttop-2 most co-occurring words: ['даиш', 'группа']\n",
      "\tP=0.50000, R=0.33333, F1=0.40000, J=0.25000\n",
      "\ttop-3 most co-occurring words: ['даиш', 'группа', 'шура']\n",
      "\tP=0.33333, R=0.33333, F1=0.33333, J=0.20000\n",
      "\ttop-4 most co-occurring words: ['даиш', 'группа', 'шура', 'афганистан']\n",
      "\tP=0.50000, R=0.66667, F1=0.57143, J=0.40000\n",
      "\ttop-5 most co-occurring words: ['даиш', 'группа', 'шура', 'афганистан', 'кветта']\n",
      "\tP=0.40000, R=0.66667, F1=0.50000, J=0.33333\n",
      "\ttop-6 most co-occurring words: ['даиш', 'группа', 'шура', 'афганистан', 'кветта', 'год']\n",
      "\tP=0.33333, R=0.66667, F1=0.44444, J=0.28571\n",
      "\ttop-7 most co-occurring words: ['даиш', 'группа', 'шура', 'афганистан', 'кветта', 'год', 'фарука']\n",
      "\tP=0.28571, R=0.66667, F1=0.40000, J=0.25000\n",
      "\ttop-8 most co-occurring words: ['даиш', 'группа', 'шура', 'афганистан', 'кветта', 'год', 'фарука', 'это']\n",
      "\tP=0.25000, R=0.66667, F1=0.36364, J=0.22222\n",
      "\ttop-9 most co-occurring words: ['даиш', 'группа', 'шура', 'афганистан', 'кветта', 'год', 'фарука', 'это', 'местный']\n",
      "\tP=0.22222, R=0.66667, F1=0.33333, J=0.20000\n",
      "\ttop-10 most co-occurring words: ['даиш', 'группа', 'шура', 'афганистан', 'кветта', 'год', 'фарука', 'это', 'местный', 'муавия']\n",
      "\tP=0.20000, R=0.66667, F1=0.30769, J=0.18182\n",
      "window=3\n",
      "\ttop-1 most co-occurring words: ['даиш']\n",
      "\tP=1.00000, R=0.33333, F1=0.50000, J=0.33333\n",
      "\ttop-2 most co-occurring words: ['даиш', 'группа']\n",
      "\tP=0.50000, R=0.33333, F1=0.40000, J=0.25000\n",
      "\ttop-3 most co-occurring words: ['даиш', 'группа', 'шура']\n",
      "\tP=0.33333, R=0.33333, F1=0.33333, J=0.20000\n",
      "\ttop-4 most co-occurring words: ['даиш', 'группа', 'шура', 'афганистан']\n",
      "\tP=0.50000, R=0.66667, F1=0.57143, J=0.40000\n",
      "\ttop-5 most co-occurring words: ['даиш', 'группа', 'шура', 'афганистан', 'кветта']\n",
      "\tP=0.40000, R=0.66667, F1=0.50000, J=0.33333\n",
      "\ttop-6 most co-occurring words: ['даиш', 'группа', 'шура', 'афганистан', 'кветта', 'год']\n",
      "\tP=0.33333, R=0.66667, F1=0.44444, J=0.28571\n",
      "\ttop-7 most co-occurring words: ['даиш', 'группа', 'шура', 'афганистан', 'кветта', 'год', 'фарука']\n",
      "\tP=0.28571, R=0.66667, F1=0.40000, J=0.25000\n",
      "\ttop-8 most co-occurring words: ['даиш', 'группа', 'шура', 'афганистан', 'кветта', 'год', 'фарука', 'это']\n",
      "\tP=0.25000, R=0.66667, F1=0.36364, J=0.22222\n",
      "\ttop-9 most co-occurring words: ['даиш', 'группа', 'шура', 'афганистан', 'кветта', 'год', 'фарука', 'это', 'местный']\n",
      "\tP=0.22222, R=0.66667, F1=0.33333, J=0.20000\n",
      "\ttop-10 most co-occurring words: ['даиш', 'группа', 'шура', 'афганистан', 'кветта', 'год', 'фарука', 'это', 'местный', 'муавия']\n",
      "\tP=0.20000, R=0.66667, F1=0.30769, J=0.18182\n",
      "window=4\n",
      "\ttop-1 most co-occurring words: ['даиш']\n",
      "\tP=1.00000, R=0.33333, F1=0.50000, J=0.33333\n",
      "\ttop-2 most co-occurring words: ['даиш', 'группа']\n",
      "\tP=0.50000, R=0.33333, F1=0.40000, J=0.25000\n",
      "\ttop-3 most co-occurring words: ['даиш', 'группа', 'шура']\n",
      "\tP=0.33333, R=0.33333, F1=0.33333, J=0.20000\n",
      "\ttop-4 most co-occurring words: ['даиш', 'группа', 'шура', 'афганистан']\n",
      "\tP=0.50000, R=0.66667, F1=0.57143, J=0.40000\n",
      "\ttop-5 most co-occurring words: ['даиш', 'группа', 'шура', 'афганистан', 'кветта']\n",
      "\tP=0.40000, R=0.66667, F1=0.50000, J=0.33333\n",
      "\ttop-6 most co-occurring words: ['даиш', 'группа', 'шура', 'афганистан', 'кветта', 'год']\n",
      "\tP=0.33333, R=0.66667, F1=0.44444, J=0.28571\n",
      "\ttop-7 most co-occurring words: ['даиш', 'группа', 'шура', 'афганистан', 'кветта', 'год', 'фарука']\n",
      "\tP=0.28571, R=0.66667, F1=0.40000, J=0.25000\n",
      "\ttop-8 most co-occurring words: ['даиш', 'группа', 'шура', 'афганистан', 'кветта', 'год', 'фарука', 'это']\n",
      "\tP=0.25000, R=0.66667, F1=0.36364, J=0.22222\n",
      "\ttop-9 most co-occurring words: ['даиш', 'группа', 'шура', 'афганистан', 'кветта', 'год', 'фарука', 'это', 'местный']\n",
      "\tP=0.22222, R=0.66667, F1=0.33333, J=0.20000\n",
      "\ttop-10 most co-occurring words: ['даиш', 'группа', 'шура', 'афганистан', 'кветта', 'год', 'фарука', 'это', 'местный', 'муавия']\n",
      "\tP=0.20000, R=0.66667, F1=0.30769, J=0.18182\n",
      "window=5\n",
      "\ttop-1 most co-occurring words: ['даиш']\n",
      "\tP=1.00000, R=0.33333, F1=0.50000, J=0.33333\n",
      "\ttop-2 most co-occurring words: ['даиш', 'группа']\n",
      "\tP=0.50000, R=0.33333, F1=0.40000, J=0.25000\n",
      "\ttop-3 most co-occurring words: ['даиш', 'группа', 'шура']\n",
      "\tP=0.33333, R=0.33333, F1=0.33333, J=0.20000\n",
      "\ttop-4 most co-occurring words: ['даиш', 'группа', 'шура', 'афганистан']\n",
      "\tP=0.50000, R=0.66667, F1=0.57143, J=0.40000\n",
      "\ttop-5 most co-occurring words: ['даиш', 'группа', 'шура', 'афганистан', 'кветта']\n",
      "\tP=0.40000, R=0.66667, F1=0.50000, J=0.33333\n",
      "\ttop-6 most co-occurring words: ['даиш', 'группа', 'шура', 'афганистан', 'кветта', 'год']\n",
      "\tP=0.33333, R=0.66667, F1=0.44444, J=0.28571\n",
      "\ttop-7 most co-occurring words: ['даиш', 'группа', 'шура', 'афганистан', 'кветта', 'год', 'фарука']\n",
      "\tP=0.28571, R=0.66667, F1=0.40000, J=0.25000\n",
      "\ttop-8 most co-occurring words: ['даиш', 'группа', 'шура', 'афганистан', 'кветта', 'год', 'фарука', 'это']\n",
      "\tP=0.25000, R=0.66667, F1=0.36364, J=0.22222\n",
      "\ttop-9 most co-occurring words: ['даиш', 'группа', 'шура', 'афганистан', 'кветта', 'год', 'фарука', 'это', 'местный']\n",
      "\tP=0.22222, R=0.66667, F1=0.33333, J=0.20000\n",
      "\ttop-10 most co-occurring words: ['даиш', 'группа', 'шура', 'афганистан', 'кветта', 'год', 'фарука', 'это', 'местный', 'муавия']\n",
      "\tP=0.20000, R=0.66667, F1=0.30769, J=0.18182\n"
     ]
    }
   ],
   "source": [
    "better_res_ind = 827\n",
    "# \"Талибан\" берет верх в Афганистане\n",
    "article_data = ng_data[better_res_ind]\n",
    "\n",
    "print(\"TITLE: {}\".format(article_data[\"title\"]))\n",
    "print(\"KEYWORDS: {}\".format(article_data[\"keywords\"]))\n",
    "\n",
    "pipeline_for_texts(article_data[\"content\"], article_data[\"keywords\"])"
   ]
  },
  {
   "cell_type": "markdown",
   "metadata": {},
   "source": [
    "## Выводы\n",
    "\n",
    "1) Возможно, результаты такие ужасные, потому что в ключевых словах есть ещё и биграммы, которые не реализованы в этом алгоритме;\n",
    "\n",
    "2) random walk не такой уж и плохой алгоритм;\n",
    "\n",
    "3) новостные заметки небольшие, и поэтому совстречаемость может работать не очень хорошо, т.к. на малом объёме будет большая вариативность лемм, а чем текст больше, тем больше леммы повторяются.\n",
    "\n",
    "<font style=\"color: blue\">**UPD 6.05:**\n",
    "    \n",
    "1) Ну, самое топовое слово — нередко ключевое, `precision=1` ужасно радует глаз (но происходит это не всегда — я случайно позапускала последнюю ячейку с кодом и в 50% случаев попадала на такой результат.\n",
    "    \n",
    "2) Зависимость F-меры от «окна» и «количества» слов отследить пока не очень могу — наверное, можно визуализировать, чтобы совсем хорошо жилось, но <s>после перебора кучи статей</s> интуитивно кажется, что нужно брать 2-3 слова с небольшим окном (не больше трёх).\n",
    "</font>"
   ]
  }
 ],
 "metadata": {
  "kernelspec": {
   "display_name": "Python 3",
   "language": "python",
   "name": "python3"
  },
  "language_info": {
   "codemirror_mode": {
    "name": "ipython",
    "version": 3
   },
   "file_extension": ".py",
   "mimetype": "text/x-python",
   "name": "python",
   "nbconvert_exporter": "python",
   "pygments_lexer": "ipython3",
   "version": "3.6.8"
  }
 },
 "nbformat": 4,
 "nbformat_minor": 4
}
